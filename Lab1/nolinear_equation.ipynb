{
 "cells": [
  {
   "cell_type": "markdown",
   "metadata": {},
   "source": [
    "# $\\S 2$ Solution of nolinear equation\n",
    "---"
   ]
  },
  {
   "cell_type": "markdown",
   "metadata": {},
   "source": [
    "In this lab, I will test three algorithms of solving no-linear equation about their correctness and efficiency, they are: \n",
    "- Bisection Method\n",
    "- Newton's Method\n",
    "- Secant Method   \n",
    "And then use them to solve the problem 3 in instruction book."
   ]
  },
  {
   "cell_type": "markdown",
   "metadata": {},
   "source": [
    "# 1. realization of these algorithms "
   ]
  },
  {
   "cell_type": "code",
   "execution_count": null,
   "metadata": {},
   "outputs": [],
   "source": [
    "import matplotlib.pyplot as plt"
   ]
  },
  {
   "cell_type": "markdown",
   "metadata": {},
   "source": [
    "## 1.0. preparations "
   ]
  },
  {
   "cell_type": "markdown",
   "metadata": {},
   "source": [
    "Losses varies for different algorithms here. But for all algorithms, the loss can be defined as:  \n",
    "$$\n",
    "|x^{(k)} - x^{*}| \\le e(x^{(k)}) \\tag{1}\n",
    "$$\n",
    "so according to different algorithms, we can defined different losses. \n",
    "1. bisection method:  \n",
    "$$\n",
    "e(x^{(k)}) = {b - a \\over 2^{k+1}} \\tag{2}\n",
    "$$\n"
   ]
  },
  {
   "cell_type": "code",
   "execution_count": 6,
   "metadata": {},
   "outputs": [],
   "source": [
    "def Lsection(a, b, k):\n",
    "    return (b - a) / 2**(k+1)"
   ]
  },
  {
   "cell_type": "markdown",
   "metadata": {},
   "source": [
    "2. Newtown's method: ($p = 2$)\n",
    "$$\n",
    "e(x^{(k)}) \\le {1\\over2}{|\\phi ^{''}(\\epsilon_n)|e(x^{(k-1)})^2} \\tag{3}\n",
    "$$"
   ]
  },
  {
   "cell_type": "code",
   "execution_count": 8,
   "metadata": {},
   "outputs": [],
   "source": [
    "def Lnewton(M, elast):\n",
    "    return M * elast**2 / 2"
   ]
  },
  {
   "cell_type": "markdown",
   "metadata": {},
   "source": [
    "\n",
    "3. Secant method: ($p = {1 + \\sqrt 5 \\over 2}$)\n",
    "$$\n",
    "e(x^{(k)}) \\le |\\phi^{'}(\\epsilon_n)|e(x^{(k-1)}) \\tag{4}\n",
    "$$"
   ]
  },
  {
   "cell_type": "code",
   "execution_count": null,
   "metadata": {},
   "outputs": [],
   "source": [
    "def Lsecant(M, elast):\n",
    "    return M * elast"
   ]
  },
  {
   "cell_type": "markdown",
   "metadata": {},
   "source": [
    "## 1.1. bisection method"
   ]
  },
  {
   "cell_type": "code",
   "execution_count": 9,
   "metadata": {},
   "outputs": [],
   "source": [
    "def bisection_method(func, a, b, tol=1e-6, max_iter=10000):\n",
    "    ll = []\n",
    "    if func(a) * func(b) > 0:\n",
    "        raise ValueError(\"The function has the same sign at both endpoints of the interval.\")\n",
    "    for j in range(max_iter):\n",
    "        c = (a + b) / 2\n",
    "        loss = Lsection(a, b, j)\n",
    "        ll.append(loss)  # error of this method\n",
    "        if func(c) == 0 or loss < tol:\n",
    "            return c, ll\n",
    "        if func(c) * func(a) < 0:\n",
    "            b = c\n",
    "        else:\n",
    "            a = c\n",
    "    raise ValueError(\"Bisection method did not converge within the maximum number of iterations.\")"
   ]
  },
  {
   "cell_type": "markdown",
   "metadata": {},
   "source": [
    "## 1.2. the Newton's method \n",
    "iteration formular: \n",
    "$$\n",
    "x^{(k+1)} = {x^{(k)} - f(x^{(k)}) \\over f^{'}(x^{(k)})}\n",
    "$$"
   ]
  },
  {
   "cell_type": "code",
   "execution_count": 10,
   "metadata": {},
   "outputs": [],
   "source": [
    "def newton_method(func, derivative, x0, M, tol=1e-6, max_iter=10000):\n",
    "    ll = []\n",
    "    x = x0\n",
    "    for j in range(max_iter):\n",
    "        x_new = x - func(x) / derivative(x)\n",
    "        if j == 0:\n",
    "            ll.append(abs(x_new - x))\n",
    "        else:\n",
    "            loss = Lnewton(M, ll[-1])\n",
    "            ll.append(loss)  # error of this method\n",
    "\n",
    "        if loss < tol:\n",
    "            return x_new, ll\n",
    "        x = x_new\n",
    "    raise ValueError(\"Newton's method did not converge within the maximum number of iterations.\")"
   ]
  },
  {
   "cell_type": "markdown",
   "metadata": {},
   "source": [
    "## 1.3. Secant Method (optimized Newton's method)   \n",
    "iteration formular:  \n",
    "$$\n",
    "x^{(k+1)} = {x^{(k)}-f(x^{k}) \\over f(x^{k})-f(x^{(k-1)})} (x^{(k)}-x^{(k-1)})\n",
    "$$"
   ]
  },
  {
   "cell_type": "code",
   "execution_count": null,
   "metadata": {},
   "outputs": [],
   "source": [
    "def secant_method(func, x0, x1, M, tol=1e-6, max_iter=10000):\n",
    "    ll = []\n",
    "    for j in range(max_iter):\n",
    "        x_new = x1 - func(x1) * (x1 - x0) / (func(x1) - func(x0))\n",
    "\n",
    "        if j == 0:\n",
    "            ll.append(abs(x_new - x1))\n",
    "        else:\n",
    "            loss = Lsecant(M, ll[-1])\n",
    "            ll.append(loss)  # error of this method\n",
    "\n",
    "        if loss < tol:\n",
    "            return x_new, ll\n",
    "        x0, x1 = x1, x_new\n",
    "    raise ValueError(\"Secant method did not converge within the maximum number of iterations.\")"
   ]
  },
  {
   "cell_type": "markdown",
   "metadata": {},
   "source": [
    "I will use the loss as metric to visualize the convergency of algorithm. "
   ]
  },
  {
   "cell_type": "code",
   "execution_count": null,
   "metadata": {},
   "outputs": [],
   "source": [
    "def visualize():\n",
    "    "
   ]
  },
  {
   "cell_type": "code",
   "execution_count": null,
   "metadata": {},
   "outputs": [],
   "source": [
    "\n",
    "# Example usage:\n",
    "\n",
    "# func = lambda x: x**3 - 2*x - 5\n",
    "# dfunc = lambda x: 3*x**2 - 2\n",
    "func = lambda x: x**3 - 30*x**2 + 1448\n",
    "dfunc = lambda x: 3*x**2 - 60*x\n",
    "\n",
    "for i in range(0, 11, 1):\n",
    "    if func(i-1)*func(i) == 0:\n",
    "        print(f'{i} is a root')\n",
    "    elif func(i-1)*func(i) < 0:\n",
    "        root, ll1 = bisection_method(func, i-1, i)\n",
    "        print(\"Root using Bisection Method:\", root)\n",
    "        root, ll2 = newton_method(func, dfunc, i)\n",
    "        print(\"Root using Newton's Method:\", root)\n",
    "        root, ll3 = secant_method(func, i-1, i)\n",
    "        print(\"Root using Secant Method:\", root)\n",
    "\n",
    "        plt.plot(range(len(ll1)), ll1, label='Bisection Method')\n",
    "        plt.plot(range(len(ll2)), ll2, label='Newton Method')\n",
    "        plt.plot(range(len(ll3)), ll3, label='Secant Method')\n",
    "        plt.legend()"
   ]
  }
 ],
 "metadata": {
  "kernelspec": {
   "display_name": "v3.10.11-torch-cpu",
   "language": "python",
   "name": "python3"
  },
  "language_info": {
   "codemirror_mode": {
    "name": "ipython",
    "version": 3
   },
   "file_extension": ".py",
   "mimetype": "text/x-python",
   "name": "python",
   "nbconvert_exporter": "python",
   "pygments_lexer": "ipython3",
   "version": "3.12.2"
  }
 },
 "nbformat": 4,
 "nbformat_minor": 2
}
