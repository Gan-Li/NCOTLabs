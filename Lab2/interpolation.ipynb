{
 "cells": [
  {
   "cell_type": "markdown",
   "metadata": {},
   "source": [
    "# $\\S 2$ Interpolation Methods \n",
    "---"
   ]
  },
  {
   "cell_type": "markdown",
   "metadata": {},
   "source": [
    "In this lab, I will test three algorithms of solving no-linear equation about their correctness and efficiency, they are: \n",
    "- Lagrange interpolation\n",
    "- Newtonian interpolation\n",
    "- cubic spline interpolation   \n",
    "And then use them to solve 2 problems in instruction book."
   ]
  },
  {
   "cell_type": "markdown",
   "metadata": {},
   "source": [
    "## 1. realization of these algorithms "
   ]
  },
  {
   "cell_type": "code",
   "execution_count": null,
   "metadata": {},
   "outputs": [],
   "source": [
    "import numpy as np\n",
    "import matplotlib.pyplot as plt "
   ]
  },
  {
   "cell_type": "markdown",
   "metadata": {},
   "source": [
    "### 1.1. Lagrange Interpolation "
   ]
  },
  {
   "cell_type": "markdown",
   "metadata": {},
   "source": [
    "Formualr of Interpolation:   \n",
    "given that $n+1$ points $(x_i, y_i),\\ i\\in\\{0, 1, 2, ..., n\\}$ on function $f(x)$. They follow the order: $x_0<x_1<x_2<...<x_n$. we can interplate it by following function with $n^{th}$ largrange method: \n",
    "$$\n",
    "p_n(x) = \\sum_{i=0}^{n} y_i\\cdot l_i(x) \\\\ \n",
    "\\Rightarrow \\sum_{i=0}^{n} y_i \\cdot \\prod_{j=0, j \\ne i}^{n} {x - x_j \\over x_i - x_j} \\tag{1}\n",
    "$$"
   ]
  },
  {
   "cell_type": "code",
   "execution_count": null,
   "metadata": {},
   "outputs": [],
   "source": [
    "def lagrange(n, x, y):\n",
    "    ll = []\n",
    "    for i in range(n):\n",
    "        f = lambda t: 1\n",
    "        for j in range(n): # calcualte l_i\n",
    "            if j != i:\n",
    "                f = lambda t: f(t) * (t - x[j]) / (x[i] - x[j]) \n",
    "        \n",
    "        ll.append(f)  # append the l_i\n",
    "    \n",
    "    larg = lambda t: 0\n",
    "    for i in range(n):\n",
    "        larg = lambda t: larg(t) + ll[i](t) * y[i]\n",
    "    \n",
    "    return larg"
   ]
  },
  {
   "cell_type": "markdown",
   "metadata": {},
   "source": [
    "### 1.2. Newtonian Interpolation "
   ]
  },
  {
   "cell_type": "markdown",
   "metadata": {},
   "source": [
    "Formualr of Interpolation:   \n",
    "given that $n+1$ points $(x_i, y_i),\\ i\\in\\{0, 1, 2, ..., n\\}$ on function $f(x)$. They follow the order: $x_0<x_1<x_2<...<x_n$. we can interplate it by following function with $n^{th}$ Newtonian method: \n",
    "$$\n",
    "p_n(x) = f(x_0) + \\sum_{i=1}^{n} f[x_0, x_1,..., x_k] \\cdot \\omega_k(x) \\tag{2}\n",
    "$$"
   ]
  },
  {
   "cell_type": "code",
   "execution_count": null,
   "metadata": {},
   "outputs": [],
   "source": [
    "def newton(n, x, y):\n",
    "    "
   ]
  }
 ],
 "metadata": {
  "kernelspec": {
   "display_name": ".venv",
   "language": "python",
   "name": "python3"
  },
  "language_info": {
   "name": "python",
   "version": "3.12.2"
  }
 },
 "nbformat": 4,
 "nbformat_minor": 2
}
