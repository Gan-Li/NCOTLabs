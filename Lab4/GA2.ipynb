{
 "cells": [
  {
   "cell_type": "code",
   "execution_count": 629,
   "metadata": {},
   "outputs": [],
   "source": [
    "import numpy as np\n",
    "import matplotlib.pyplot as plt"
   ]
  },
  {
   "cell_type": "code",
   "execution_count": 630,
   "metadata": {},
   "outputs": [],
   "source": [
    "def fitness(X, Y):\n",
    "    return X*np.cos(2*np.pi*Y) + Y*np.sin(2*np.pi*X)"
   ]
  },
  {
   "cell_type": "code",
   "execution_count": 631,
   "metadata": {},
   "outputs": [
    {
     "name": "stdout",
     "output_type": "stream",
     "text": [
      "[0 0 0 1 1 1 1 1 0 0 1 1 0 0 0 0 1 1 0 0]\n",
      "(-1.03125, -1.23828125)\n"
     ]
    }
   ],
   "source": [
    "def decoder(v):\n",
    "    # let x = v[0:len(v)//2] and y = v[len(v)//2:]\n",
    "\n",
    "    decx = v[0:len(v)//2]\n",
    "    decy = v[len(v)//2:]\n",
    "\n",
    "    # decx = []\n",
    "    # decy = []\n",
    "    # for i in range(len(v)):\n",
    "    #     if i%2 == 0:\n",
    "    #         decx.append(v[i])\n",
    "    #     else:\n",
    "    #         decy.append(v[i])\n",
    "            \n",
    "    x = np.dot(np.array([2**i for i in range(len(decx))]), decx)\n",
    "    y = np.dot(np.array([2**i for i in range(len(decy))]), decy)\n",
    "\n",
    "    # scale to [-2, 2]\n",
    "    dx = 2**(len(decx) - 1)\n",
    "    x = (x - dx) / (dx) * 2\n",
    "    dy = 2**(len(decy) - 1)\n",
    "    y = (y - dy) / (dy) * 2\n",
    "    return x, y\n",
    "\n",
    "v = np.random.randint(0, 2, 20)\n",
    "print(v)\n",
    "print(decoder(v))"
   ]
  },
  {
   "cell_type": "code",
   "execution_count": 632,
   "metadata": {},
   "outputs": [
    {
     "name": "stdout",
     "output_type": "stream",
     "text": [
      "[1 0 0 0 0 1 0 1 0 1 0 1 0 0 0 1 0 0 0 1]\n",
      "(0.62890625, 0.1328125)\n",
      "0.3261585582422659\n"
     ]
    }
   ],
   "source": [
    "def selection(pop):\n",
    "    pop_size = len(pop)\n",
    "    fl = []\n",
    "    for v in pop:\n",
    "        x, y = decoder(v)\n",
    "        f = fitness(x, y)\n",
    "        fl.append(f)\n",
    "\n",
    "    fl = np.array(fl)\n",
    "    fl = fl / np.sum(fl)\n",
    "\n",
    "    pl = [np.sum(fl[:i]) for i in range(len(fl))]\n",
    "\n",
    "    for _ in range(pop_size):\n",
    "        r = np.random.random()\n",
    "        for i in range(len(pl)):\n",
    "            if pl[i] > r:\n",
    "                return pop[i]\n",
    "\n",
    "pop = [np.random.randint(0, 2, 20) for _ in range(100)]\n",
    "v = selection(pop)\n",
    "print(v)\n",
    "print(decoder(v))\n",
    "print(fitness(*decoder(v)))"
   ]
  },
  {
   "cell_type": "code",
   "execution_count": 633,
   "metadata": {},
   "outputs": [
    {
     "name": "stdout",
     "output_type": "stream",
     "text": [
      "[1. 0. 0. 0. 0. 1. 0. 1. 0. 1. 0. 1. 0. 1. 0. 0. 0. 0. 0. 1.]\n",
      "[1. 0. 1. 1. 1. 0. 0. 0. 0. 0. 0. 1. 0. 0. 0. 1. 0. 0. 0. 1.]\n"
     ]
    }
   ],
   "source": [
    "def crossover(v1, v2):\n",
    "    num_genes = len(v1)\n",
    "    r = np.random.randint(0, num_genes)\n",
    "    vv1 = np.zeros(num_genes)\n",
    "    vv2 = np.zeros(num_genes)\n",
    "\n",
    "    vv1[:r] = v1[:r]\n",
    "    vv1[r:] = v2[r:]\n",
    "\n",
    "    vv2[:r] = v2[:r]\n",
    "    vv2[r:] = v1[r:]\n",
    "\n",
    "    return vv1, vv2\n",
    "\n",
    "v1 = selection(pop)\n",
    "v2 = selection(pop)\n",
    "vv1, vv2 = crossover(v1, v2)\n",
    "print(vv1)\n",
    "print(vv2)"
   ]
  },
  {
   "cell_type": "code",
   "execution_count": 634,
   "metadata": {},
   "outputs": [
    {
     "name": "stdout",
     "output_type": "stream",
     "text": [
      "[1 0 1 1 1 0 0 0 0 0 0 1 0 1 0 0 0 0 0 1]\n",
      "[1 0 1 1 1 0 0 0 0 0 0 1 0 1 0 0 0 0 0 1]\n"
     ]
    }
   ],
   "source": [
    "def mutate(v, mutation_rate):\n",
    "    num_genes = len(v)\n",
    "    for i in range(num_genes):\n",
    "        if np.random.random() < mutation_rate:\n",
    "            v[i] = np.random.randint(0, 2)\n",
    "\n",
    "    return v\n",
    "\n",
    "v = selection(pop)\n",
    "print(v)\n",
    "vv = mutate(v, 0.05)\n",
    "print(vv)"
   ]
  },
  {
   "cell_type": "code",
   "execution_count": 635,
   "metadata": {},
   "outputs": [],
   "source": [
    "def init(pop_size=100, num_genes=20):\n",
    "    pop = [np.random.randint(0, 2, num_genes) for _ in range(pop_size)]\n",
    "    return pop"
   ]
  },
  {
   "cell_type": "code",
   "execution_count": 636,
   "metadata": {},
   "outputs": [],
   "source": [
    "def GA(pop_size=100, num_genes=20, mutation_rate=0.05, cross_rate=0.7, max_iter=100):\n",
    "    pop = init(pop_size, num_genes)\n",
    "\n",
    "    fitl = []\n",
    "    best_keep = []\n",
    "    for _ in range(max_iter):\n",
    "        ppop = []\n",
    "\n",
    "        for _ in range(pop_size):\n",
    "            opt = np.random.random() \n",
    "            if opt < cross_rate:\n",
    "                v1 = selection(pop)\n",
    "                v2 = selection(pop)\n",
    "                vv1, vv2 = crossover(v1, v2)\n",
    "                ppop.append(vv1)\n",
    "                ppop.append(vv2)\n",
    "            else:\n",
    "                v = selection(pop)\n",
    "                ppop.append(v)\n",
    "\n",
    "        for v in ppop:\n",
    "            v = mutate(v, mutation_rate)\n",
    "\n",
    "        pop = ppop\n",
    "        pop = sorted(pop, key=lambda v: fitness(*decoder(v)), reverse=True)\n",
    "\n",
    "        vbest = pop[0]\n",
    "        xbest, ybest = decoder(vbest)\n",
    "        fbest = fitness(xbest, ybest)\n",
    "        best_keep.append(vbest)\n",
    "        fitl.append(fbest)\n",
    "    \n",
    "    pop = best_keep\n",
    "    pop = sorted(pop, key=lambda v: fitness(*decoder(v)), reverse=True)\n",
    "    return pop[0], fitl\n",
    "        "
   ]
  },
  {
   "cell_type": "code",
   "execution_count": 637,
   "metadata": {},
   "outputs": [],
   "source": [
    "# hyperparameters\n",
    "pop_size = 100\n",
    "num_genes = 20\n",
    "mutation_rate = 0.05\n",
    "cross_rate = 0.7\n",
    "\n",
    "bv = None\n",
    "bf = None\n",
    "bcost = 0\n",
    "for _ in range(10):\n",
    "    v, fitl = GA(pop_size=pop_size, num_genes=num_genes, mutation_rate=mutation_rate, cross_rate=cross_rate, max_iter=50)\n",
    "    cost = fitness(*decoder(v))\n",
    "\n",
    "    if bv is None:\n",
    "        bv = v\n",
    "        bcost = cost\n",
    "        bf = fitl\n",
    "    if cost > bcost:\n",
    "        bv = v\n",
    "        bcost = cost\n",
    "        bf = fitl\n",
    "\n"
   ]
  },
  {
   "cell_type": "code",
   "execution_count": 638,
   "metadata": {},
   "outputs": [
    {
     "name": "stdout",
     "output_type": "stream",
     "text": [
      "[1. 1. 0. 0. 0. 0. 1. 1. 1. 1. 0. 0. 0. 0. 0. 0. 0. 0. 0. 0.]\n",
      "(1.76171875, -2.0)\n",
      "3.7563359221353894\n"
     ]
    },
    {
     "data": {
      "image/png": "[encoded data removed]",
      "text/plain": [
       "<Figure size 640x480 with 1 Axes>"
      ]
     },
     "metadata": {},
     "output_type": "display_data"
    }
   ],
   "source": [
    "print(bv)\n",
    "print(decoder(bv))\n",
    "\n",
    "print(fitness(1.76267854, -2))\n",
    "\n",
    "plt.plot(range(len(bf)), bf)\n",
    "plt.show()"
   ]
  },
  {
   "cell_type": "markdown",
   "metadata": {},
   "source": [
    "# Q1"
   ]
  },
  {
   "cell_type": "code",
   "execution_count": null,
   "metadata": {},
   "outputs": [],
   "source": []
  }
 ],
 "metadata": {
  "kernelspec": {
   "display_name": ".venv",
   "language": "python",
   "name": "python3"
  },
  "language_info": {
   "codemirror_mode": {
    "name": "ipython",
    "version": 3
   },
   "file_extension": ".py",
   "mimetype": "text/x-python",
   "name": "python",
   "nbconvert_exporter": "python",
   "pygments_lexer": "ipython3",
   "version": "3.12.2"
  }
 },
 "nbformat": 4,
 "nbformat_minor": 2
}
